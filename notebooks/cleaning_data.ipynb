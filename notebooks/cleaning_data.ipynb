{
 "cells": [
  {
   "cell_type": "code",
   "execution_count": 2,
   "metadata": {},
   "outputs": [],
   "source": [
    "# 1. DtypeWarning\n",
    "# The column specified (7) has mixed types (e.g., numbers and strings). You can fix this by:\n",
    "# •\tExplicitly specifying the dtype for each column when reading the CSV:\n",
    "\n",
    "import pandas as pd\n",
    "\n",
    "# train = pd.read_csv(\"D:/Personal/Kifiya 10 Academy/Week 4/data/Data/rossmann-store-sales/train.csv\", dtype={'column_name': str})\n",
    "test = pd.read_csv(\"D:/Personal/Kifiya 10 Academy/Week 4/data/Data/rossmann-store-sales/test.csv\", dtype={'StateHoliday': str})\n",
    "\n",
    "# •\tOr setting low_memory=False during import to load data in a more efficient manner:\n",
    "\n",
    "test = pd.read_csv(\"D:/Personal/Kifiya 10 Academy/Week 4/data/Data/rossmann-store-sales/test.csv\", low_memory=False)\n"
   ]
  }
 ],
 "metadata": {
  "kernelspec": {
   "display_name": "myenv",
   "language": "python",
   "name": "python3"
  },
  "language_info": {
   "codemirror_mode": {
    "name": "ipython",
    "version": 3
   },
   "file_extension": ".py",
   "mimetype": "text/x-python",
   "name": "python",
   "nbconvert_exporter": "python",
   "pygments_lexer": "ipython3",
   "version": "3.10.16"
  }
 },
 "nbformat": 4,
 "nbformat_minor": 2
}
