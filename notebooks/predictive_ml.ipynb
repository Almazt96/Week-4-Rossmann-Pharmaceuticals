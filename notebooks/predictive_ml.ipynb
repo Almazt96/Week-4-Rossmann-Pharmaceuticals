{
 "cells": [
  {
   "cell_type": "code",
   "execution_count": 5,
   "metadata": {},
   "outputs": [
    {
     "name": "stdout",
     "output_type": "stream",
     "text": [
      "MAE: 9600.0\n",
      "R2 Score: nan\n",
      "Accuracy: 0.0\n",
      "              precision    recall  f1-score   support\n",
      "\n",
      "    320000.0       0.00      0.00      0.00       1.0\n",
      "    329600.0       0.00      0.00      0.00       0.0\n",
      "\n",
      "    accuracy                           0.00       1.0\n",
      "   macro avg       0.00      0.00      0.00       1.0\n",
      "weighted avg       0.00      0.00      0.00       1.0\n",
      "\n"
     ]
    },
    {
     "name": "stderr",
     "output_type": "stream",
     "text": [
      "c:\\Users\\Almazt\\AppData\\Local\\anaconda3\\envs\\myenv\\lib\\site-packages\\sklearn\\metrics\\_regression.py:1266: UndefinedMetricWarning: R^2 score is not well-defined with less than two samples.\n",
      "  warnings.warn(msg, UndefinedMetricWarning)\n",
      "c:\\Users\\Almazt\\AppData\\Local\\anaconda3\\envs\\myenv\\lib\\site-packages\\sklearn\\metrics\\_classification.py:1565: UndefinedMetricWarning: Precision is ill-defined and being set to 0.0 in labels with no predicted samples. Use `zero_division` parameter to control this behavior.\n",
      "  _warn_prf(average, modifier, f\"{metric.capitalize()} is\", len(result))\n",
      "c:\\Users\\Almazt\\AppData\\Local\\anaconda3\\envs\\myenv\\lib\\site-packages\\sklearn\\metrics\\_classification.py:1565: UndefinedMetricWarning: Recall is ill-defined and being set to 0.0 in labels with no true samples. Use `zero_division` parameter to control this behavior.\n",
      "  _warn_prf(average, modifier, f\"{metric.capitalize()} is\", len(result))\n",
      "c:\\Users\\Almazt\\AppData\\Local\\anaconda3\\envs\\myenv\\lib\\site-packages\\sklearn\\metrics\\_classification.py:1565: UndefinedMetricWarning: Precision is ill-defined and being set to 0.0 in labels with no predicted samples. Use `zero_division` parameter to control this behavior.\n",
      "  _warn_prf(average, modifier, f\"{metric.capitalize()} is\", len(result))\n",
      "c:\\Users\\Almazt\\AppData\\Local\\anaconda3\\envs\\myenv\\lib\\site-packages\\sklearn\\metrics\\_classification.py:1565: UndefinedMetricWarning: Recall is ill-defined and being set to 0.0 in labels with no true samples. Use `zero_division` parameter to control this behavior.\n",
      "  _warn_prf(average, modifier, f\"{metric.capitalize()} is\", len(result))\n",
      "c:\\Users\\Almazt\\AppData\\Local\\anaconda3\\envs\\myenv\\lib\\site-packages\\sklearn\\metrics\\_classification.py:1565: UndefinedMetricWarning: Precision is ill-defined and being set to 0.0 in labels with no predicted samples. Use `zero_division` parameter to control this behavior.\n",
      "  _warn_prf(average, modifier, f\"{metric.capitalize()} is\", len(result))\n",
      "c:\\Users\\Almazt\\AppData\\Local\\anaconda3\\envs\\myenv\\lib\\site-packages\\sklearn\\metrics\\_classification.py:1565: UndefinedMetricWarning: Recall is ill-defined and being set to 0.0 in labels with no true samples. Use `zero_division` parameter to control this behavior.\n",
      "  _warn_prf(average, modifier, f\"{metric.capitalize()} is\", len(result))\n",
      "C:\\Users\\Almazt\\AppData\\Local\\Temp\\ipykernel_11944\\2235654731.py:49: DtypeWarning: Columns (7) have mixed types. Specify dtype option on import or set low_memory=False.\n",
      "  train = pd.read_csv(\"D:/Personal/Kifiya 10 Academy/Week 4/data/Data/rossmann-store-sales/train.csv\")\n"
     ]
    },
    {
     "name": "stdout",
     "output_type": "stream",
     "text": [
      "MAE: 9600.0\n",
      "R2 Score: nan\n"
     ]
    },
    {
     "name": "stderr",
     "output_type": "stream",
     "text": [
      "c:\\Users\\Almazt\\AppData\\Local\\anaconda3\\envs\\myenv\\lib\\site-packages\\sklearn\\metrics\\_regression.py:1266: UndefinedMetricWarning: R^2 score is not well-defined with less than two samples.\n",
      "  warnings.warn(msg, UndefinedMetricWarning)\n"
     ]
    },
    {
     "data": {
      "text/plain": [
       "['store-v1_model.pkl']"
      ]
     },
     "execution_count": 5,
     "metadata": {},
     "output_type": "execute_result"
    }
   ],
   "source": [
    "# d. Model Evaluation\n",
    "# Evaluate the model on the test set using appropriate metrics:\n",
    "# 1.\tFor Regression:\n",
    "# o\tMean Absolute Error (MAE), Mean Squared Error (MSE), R-squared.\n",
    "\n",
    "from sklearn.metrics import mean_absolute_error, r2_score\n",
    "\n",
    "# Ensure model and X_test are defined before using them\n",
    "try:\n",
    "\tpredictions = model.predict(X_test)\n",
    "\tprint(\"MAE:\", mean_absolute_error(y_test, predictions))\n",
    "\tprint(\"R2 Score:\", r2_score(y_test, predictions))\n",
    "except NameError:\n",
    "\tprint(\"Model or X_test is not defined. Please ensure the model is trained and X_test is defined.\")\n",
    "\n",
    "# 2.\tFor Classification:\n",
    "# o\tAccuracy, Precision, Recall, F1-Score, ROC-AUC.\n",
    "\n",
    "from sklearn.metrics import classification_report, accuracy_score\n",
    "\n",
    "# Ensure model and X_test are defined before using them\n",
    "try:\n",
    "\tpredictions = model.predict(X_test)\n",
    "\tprint(\"Accuracy:\", accuracy_score(y_test, predictions))\n",
    "\tprint(classification_report(y_test, predictions))\n",
    "except NameError:\n",
    "\tprint(\"Model or X_test is not defined. Please ensure the model is trained and X_test is defined.\")\n",
    "\n",
    "# e. Fine-Tuning the Model\n",
    "# •\tOptimize hyperparameters using techniques like Grid Search or Bayesian Optimization (refer to the earlier section on hyperparameter tuning).\n",
    "# f. Deployment\n",
    "# Deploy the model for real-time or batch inference using:\n",
    "# 1.\tFrameworks: Flask, FastAPI, Streamlit.\n",
    "# 2.\tCloud Services: AWS SageMaker, Google AI Platform, or Azure ML.\n",
    "\n",
    "# 2. Example: Predicting House Prices\n",
    "# Problem Statement:\n",
    "# Predict house prices based on features like size, location, and amenities.\n",
    "# Step 1: Load Dataset\n",
    "\n",
    "import pandas as pd\n",
    "\n",
    "import os\n",
    "\n",
    "# Check if the file exists\n",
    "if not os.path.exists(\"store-v1.csv\"):\n",
    "\t# Create a sample dataset\n",
    "\t# Load datasets (train.csv, test.csv, etc.) into Pandas dataframes.\n",
    "\ttrain = pd.read_csv(\"D:/Personal/Kifiya 10 Academy/Week 4/data/Data/rossmann-store-sales/train.csv\")\n",
    "\ttest = pd.read_csv(\"D:/Personal/Kifiya 10 Academy/Week 4/data/Data/rossmann-store-sales/test.csv\")\n",
    "\n",
    "\ttrain.to_csv(\"store-v1.csv\", index=False)\n",
    "else:\n",
    "\ttrain = pd.read_csv(\"store-v1.csv\")\n",
    "\n",
    "# Step 2: Preprocessing\n",
    "\n",
    "from sklearn.model_selection import train_test_split\n",
    "from sklearn.preprocessing import StandardScaler\n",
    "\n",
    "# Split data\n",
    "X = data.drop('price', axis=1)\n",
    "y = data['price']\n",
    "\n",
    "X_train, X_test, y_train, y_test = train_test_split(X, y, test_size=0.2, random_state=42)\n",
    "\n",
    "# Scale numerical features\n",
    "scaler = StandardScaler()\n",
    "X_train = scaler.fit_transform(X_train)\n",
    "X_test = scaler.transform(X_test)\n",
    "\n",
    "# Step 3: Train Model\n",
    "\n",
    "from sklearn.ensemble import RandomForestRegressor\n",
    "\n",
    "model = RandomForestRegressor(n_estimators=100, random_state=42)\n",
    "model.fit(X_train, y_train)\n",
    "\n",
    "# Step 4: Evaluate Model\n",
    "\n",
    "from sklearn.metrics import mean_absolute_error, r2_score\n",
    "\n",
    "predictions = model.predict(X_test)\n",
    "print(\"MAE:\", mean_absolute_error(y_test, predictions))\n",
    "print(\"R2 Score:\", r2_score(y_test, predictions))\n",
    "\n",
    "# Step 5: Deployment Save and deploy the model:\n",
    "\n",
    "import joblib\n",
    "\n",
    "joblib.dump(model, \"store-v1_model.pkl\")\n"
   ]
  }
 ],
 "metadata": {
  "kernelspec": {
   "display_name": "myenv",
   "language": "python",
   "name": "python3"
  },
  "language_info": {
   "codemirror_mode": {
    "name": "ipython",
    "version": 3
   },
   "file_extension": ".py",
   "mimetype": "text/x-python",
   "name": "python",
   "nbconvert_exporter": "python",
   "pygments_lexer": "ipython3",
   "version": "3.10.16"
  }
 },
 "nbformat": 4,
 "nbformat_minor": 2
}
