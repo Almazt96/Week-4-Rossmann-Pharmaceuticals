{
 "cells": [
  {
   "cell_type": "code",
   "execution_count": 11,
   "metadata": {},
   "outputs": [
    {
     "name": "stderr",
     "output_type": "stream",
     "text": [
      "C:\\Users\\Almazt\\AppData\\Local\\Temp\\ipykernel_15060\\3232119867.py:9: DtypeWarning: Columns (7) have mixed types. Specify dtype option on import or set low_memory=False.\n",
      "  train = pd.read_csv(\"D:/Personal/Kifiya 10 Academy/Week 4/data/Data/rossmann-store-sales/train.csv\")\n"
     ]
    },
    {
     "name": "stdout",
     "output_type": "stream",
     "text": [
      "   Store  DayOfWeek        Date  Sales  Customers  Open  Promo StateHoliday  \\\n",
      "0      1          5  2015-07-31   5263        555     1      1            0   \n",
      "1      2          5  2015-07-31   6064        625     1      1            0   \n",
      "2      3          5  2015-07-31   8314        821     1      1            0   \n",
      "3      4          5  2015-07-31  13995       1498     1      1            0   \n",
      "4      5          5  2015-07-31   4822        559     1      1            0   \n",
      "\n",
      "   SchoolHoliday  \n",
      "0              1  \n",
      "1              1  \n",
      "2              1  \n",
      "3              1  \n",
      "4              1  \n",
      "   Id  Store  DayOfWeek        Date  Open  Promo StateHoliday  SchoolHoliday\n",
      "0   1      1          4  2015-09-17   1.0      1            0              0\n",
      "1   2      3          4  2015-09-17   1.0      1            0              0\n",
      "2   3      7          4  2015-09-17   1.0      1            0              0\n",
      "3   4      8          4  2015-09-17   1.0      1            0              0\n",
      "4   5      9          4  2015-09-17   1.0      1            0              0\n",
      "   Store StoreType Assortment  CompetitionDistance  CompetitionOpenSinceMonth  \\\n",
      "0      1         c          a               1270.0                        9.0   \n",
      "1      2         a          a                570.0                       11.0   \n",
      "2      3         a          a              14130.0                       12.0   \n",
      "3      4         c          c                620.0                        9.0   \n",
      "4      5         a          a              29910.0                        4.0   \n",
      "\n",
      "   CompetitionOpenSinceYear  Promo2  Promo2SinceWeek  Promo2SinceYear  \\\n",
      "0                    2008.0       0              NaN              NaN   \n",
      "1                    2007.0       1             13.0           2010.0   \n",
      "2                    2006.0       1             14.0           2011.0   \n",
      "3                    2009.0       0              NaN              NaN   \n",
      "4                    2015.0       0              NaN              NaN   \n",
      "\n",
      "     PromoInterval  \n",
      "0              NaN  \n",
      "1  Jan,Apr,Jul,Oct  \n",
      "2  Jan,Apr,Jul,Oct  \n",
      "3              NaN  \n",
      "4              NaN  \n"
     ]
    },
    {
     "data": {
      "text/plain": [
       "\" # Example Scenario:\\n# If table1.csv has columns id, name, age, and table2.csv has columns id, name, salary, the merge operation might look like this:\\n\\nmerged_table = pd.merge(train, store, on=['id', 'name']) \""
      ]
     },
     "execution_count": 11,
     "metadata": {},
     "output_type": "execute_result"
    }
   ],
   "source": [
    "# To relate and query two tables from CSV files, you can load the data into pandas DataFrames in Python \n",
    "# and then use join or merge operations to relate them based on common columns.\n",
    "# Step 1: Import pandas and load the CSV files\n",
    "\n",
    "import pandas as pd\n",
    "\n",
    "# Load datasets (train.csv, test.csv, store.csv etc.) into Pandas dataframes.\n",
    "\n",
    "train = pd.read_csv(\"D:/Personal/Kifiya 10 Academy/Week 4/data/Data/rossmann-store-sales/train.csv\")\n",
    "test = pd.read_csv(\"D:/Personal/Kifiya 10 Academy/Week 4/data/Data/rossmann-store-sales/test.csv\")\n",
    "store = pd.read_csv(\"D:/Personal/Kifiya 10 Academy/Week 4/data/Data/rossmann-store-sales/store.csv\")\n",
    "\n",
    "# Step 2: Inspect the data\n",
    "# It is important to inspect the data to understand the structure of both CSV files. \n",
    "# preview the first few rows with head():\n",
    "\n",
    "# Preview first few rows of both tables\n",
    "\n",
    "print(train.head())\n",
    "print(test.head())\n",
    "print(store.head())\n",
    "\n",
    "# Step 3: Relate the two tables using merge or join\n",
    "# To relate the tables, find a common column (or a combination of columns) that they both share. \n",
    "# Using merge to combine them.\n",
    "# Example: Merging on a single column\n",
    "\n",
    "# Merge both tables on a common column (e.g., 'store' in both tables)\n",
    "result_train = pd.merge(train, store, on='Store')\n",
    "result_test = pd.merge(test, store, on='Store')\n",
    "\n",
    "\"\"\" Example: Merging on multiple columns\n",
    "If you need to match on more than one column, you can specify the on parameter with a list of column names.\n",
    "For example, to merge on 'id' and 'name' columns in both tables, you can use:\n",
    "# Merge using multiple columns (e.g., 'id' and 'name' in both tables)\n",
    "result = pd.merge(table1, table2, on=['id', 'name'])\n",
    "Step 4: Use SQL-like querying to filter data\n",
    "You can perform SQL-style queries directly on the merged DataFrame using conditions. For instance, to filter rows with a condition:\n",
    " \"\"\"\n",
    "\n",
    "\"\"\" # Querying the merged table for a specific condition, e.g., where the 'status' column equals 'Active'\n",
    "filtered_result = result[result['status'] == 'Active']\n",
    "print(filtered_result)\n",
    " \"\"\"\n",
    "# Step 5: Save the result (optional)\n",
    "# Once you have the result, you can save the combined data to a new CSV file:\n",
    "\n",
    "# Save the merged table to a new CSV file\n",
    "result_train.to_csv(r'C:\\Users\\Almazt\\OneDrive - Ethiopian Airlines\\Desktop\\10 Academy\\Rossmann Pharmaceuticals\\Week-4\\data\\raw\\merged_result_train.csv', index=False)\n",
    "result_test.to_csv(r'C:\\Users\\Almazt\\OneDrive - Ethiopian Airlines\\Desktop\\10 Academy\\Rossmann Pharmaceuticals\\Week-4\\data\\raw\\merged_result_test.csv', index=False)\n",
    "\n",
    "\"\"\" # Example Scenario:\n",
    "# If table1.csv has columns id, name, age, and table2.csv has columns id, name, salary, the merge operation might look like this:\n",
    "\n",
    "merged_table = pd.merge(train, store, on=['id', 'name']) \"\"\""
   ]
  }
 ],
 "metadata": {
  "kernelspec": {
   "display_name": "myenv",
   "language": "python",
   "name": "python3"
  },
  "language_info": {
   "codemirror_mode": {
    "name": "ipython",
    "version": 3
   },
   "file_extension": ".py",
   "mimetype": "text/x-python",
   "name": "python",
   "nbconvert_exporter": "python",
   "pygments_lexer": "ipython3",
   "version": "3.10.16"
  }
 },
 "nbformat": 4,
 "nbformat_minor": 2
}
